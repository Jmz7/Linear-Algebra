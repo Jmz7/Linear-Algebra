{
 "cells": [
  {
   "cell_type": "markdown",
   "metadata": {
    "id": "sYqltWNL6fys"
   },
   "source": [
    "**Linear Algebr**a **(CpE210A)**<br>\n",
    "\n",
    "\n",
    "**Laboratory 1: Getting acquainted with Python<br>**\n",
    "\n",
    "Coded and submitted by:<br>\n",
    "<i> GIRON, JERIC S.<br>\n",
    "58010\n",
    "\n",
    "Lab Exercises:"
   ]
  },
  {
   "cell_type": "code",
   "execution_count": 2,
   "metadata": {
    "id": "Z984ks0l7lTs"
   },
   "outputs": [],
   "source": [
    "party = ['Charmander', 'Pidgey', 'Sandshrew', 'Rattata', 'Abra']\n",
    "levels = [15, 11, 18, 5, 14 ]"
   ]
  },
  {
   "cell_type": "code",
   "execution_count": 4,
   "metadata": {
    "colab": {
     "base_uri": "https://localhost:8080/"
    },
    "id": "-3d6YHIV7uJL",
    "outputId": "590ade00-96ea-44da-f630-a37e683de2cf"
   },
   "outputs": [
    {
     "name": "stdout",
     "output_type": "stream",
     "text": [
      "Charmander at level  15\n",
      "Pidgey at level  11\n",
      "Sandshrew at level  18\n",
      "Rattata at level  5\n",
      "Abra at level  14\n"
     ]
    }
   ],
   "source": [
    "for a,b in zip (party,levels):\n",
    "    print (a, \"at level \", b)"
   ]
  },
  {
   "cell_type": "code",
   "execution_count": 5,
   "metadata": {
    "id": "x88A9iLp7_Ir"
   },
   "outputs": [],
   "source": [
    "reserves = [\n",
    "    ('Onix',10),\n",
    "    ('Slowpoke',18),\n",
    "    ('Dialga', 2),\n",
    "    ('Magikarp', 32),\n",
    "    ('Feebas', 22),\n",
    "    ('Swablu', 19),\n",
    "    ('Regigigas', 3),\n",
    "    ('Unown', 50)\n",
    "]"
   ]
  },
  {
   "cell_type": "code",
   "execution_count": 12,
   "metadata": {
    "colab": {
     "base_uri": "https://localhost:8080/"
    },
    "id": "mRDMPrXn9Hxa",
    "outputId": "16c52710-a5a3-4462-d549-241fa6d3c6cd"
   },
   "outputs": [
    {
     "data": {
      "text/plain": [
       "['Unown', 'Magikarp', 'Feebas']"
      ]
     },
     "execution_count": 12,
     "metadata": {
      "tags": []
     },
     "output_type": "execute_result"
    }
   ],
   "source": [
    "ranked = sorted(reserves, key=lambda x: x[1], reverse = True)[:3]\n",
    "picks = []\n",
    "for rank in ranked:\n",
    "  picks.append(rank[0])\n",
    "\n",
    "picks"
   ]
  },
  {
   "cell_type": "code",
   "execution_count": 28,
   "metadata": {
    "colab": {
     "base_uri": "https://localhost:8080/"
    },
    "id": "6KeHQaQQA7Az",
    "outputId": "82af6f30-b188-468c-b442-e0f81e98cc87"
   },
   "outputs": [
    {
     "data": {
      "text/plain": [
       "['Dialga', 'Regigigas', 'Onix']"
      ]
     },
     "execution_count": 28,
     "metadata": {
      "tags": []
     },
     "output_type": "execute_result"
    }
   ],
   "source": [
    "ranked = sorted(reserves, key=lambda x: x[1], reverse = False)[:3]\n",
    "picks = []\n",
    "for rank in ranked:\n",
    "  picks.append(rank[0])\n",
    "\n",
    "picks"
   ]
  },
  {
   "cell_type": "code",
   "execution_count": 26,
   "metadata": {
    "id": "FwsIrBkO-dm8"
   },
   "outputs": [],
   "source": [
    "party = ['Charmander', 'Pidgey', 'Sandshrew', 'Rattata', 'Abra']\n",
    "levels = [15, 11, 18, 5, 14 ]\n",
    "def create_party(party, candidates):\n",
    "  suggested_parties = []\n",
    "  new_p = party \n",
    "  for candidate in candidates:\n",
    "      new_p.insert(5,candidate)\n",
    "      suggested_parties.append (new_p[0:6])\n",
    "\n",
    "  return suggested_parties"
   ]
  },
  {
   "cell_type": "code",
   "execution_count": 27,
   "metadata": {
    "colab": {
     "base_uri": "https://localhost:8080/"
    },
    "id": "7NJco363_b9F",
    "outputId": "d91a168d-9fa4-4f1b-f4ef-a2cda83cb9f5"
   },
   "outputs": [
    {
     "name": "stdout",
     "output_type": "stream",
     "text": [
      "['Charmander', 'Pidgey', 'Sandshrew', 'Rattata', 'Abra', 'Unown']\n",
      "['Charmander', 'Pidgey', 'Sandshrew', 'Rattata', 'Abra', 'Magikarp']\n",
      "['Charmander', 'Pidgey', 'Sandshrew', 'Rattata', 'Abra', 'Feebas']\n"
     ]
    }
   ],
   "source": [
    "suggests = create_party(party=party, candidates=picks)\n",
    "for suggested_team in suggests:\n",
    "    print (suggested_team)"
   ]
  }
 ],
 "metadata": {
  "colab": {
   "name": "LinAlgLab 1.ipynb",
   "provenance": []
  },
  "kernelspec": {
   "display_name": "Python 3",
   "language": "python",
   "name": "python3"
  },
  "language_info": {
   "codemirror_mode": {
    "name": "ipython",
    "version": 3
   },
   "file_extension": ".py",
   "mimetype": "text/x-python",
   "name": "python",
   "nbconvert_exporter": "python",
   "pygments_lexer": "ipython3",
   "version": "3.8.3"
  }
 },
 "nbformat": 4,
 "nbformat_minor": 1
}
