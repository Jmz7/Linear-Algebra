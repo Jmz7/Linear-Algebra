{
  "nbformat": 4,
  "nbformat_minor": 0,
  "metadata": {
    "colab": {
      "name": "Linear Algebra 1",
      "provenance": [],
      "authorship_tag": "ABX9TyNrIHIqVFJOnPMpEphZkVtY",
      "include_colab_link": true
    },
    "kernelspec": {
      "name": "python3",
      "display_name": "Python 3"
    }
  },
  "cells": [
    {
      "cell_type": "markdown",
      "metadata": {
        "id": "view-in-github",
        "colab_type": "text"
      },
      "source": [
        "<a href=\"https://colab.research.google.com/github/Jmz7/Linear-Algebra/blob/master/Linear_Algebra_1.ipynb\" target=\"_parent\"><img src=\"https://colab.research.google.com/assets/colab-badge.svg\" alt=\"Open In Colab\"/></a>"
      ]
    },
    {
      "cell_type": "markdown",
      "metadata": {
        "id": "eDIwFbN3DuiN"
      },
      "source": [
        "**Linear Algebra (CpE210A)**<br>\n",
        "<br>\n",
        "**Laboratory 1: Getting acquainted with Python**<br>\n",
        "<br>\n",
        "Coded and submitted by:<br>\n",
        "*DE LEON,JOHN MARCK G*.<br>\n",
        "58010<br>\n",
        "\n",
        "<br>\n",
        "Lab Exercises:<br>"
      ]
    },
    {
      "cell_type": "code",
      "metadata": {
        "id": "fg5SBk-rFEf3"
      },
      "source": [
        "party = ['Charmander', 'Pidgey', 'Sandshrew', 'Rattata', 'Abra']\n",
        "levels = [15, 11, 18, 5, 14 ]"
      ],
      "execution_count": null,
      "outputs": []
    },
    {
      "cell_type": "code",
      "metadata": {
        "id": "4fpUTJSxFI4I"
      },
      "source": [
        "for a,b in zip (party,levels):\n",
        "    print (a, \"at level \", b)\n",
        "    "
      ],
      "execution_count": null,
      "outputs": []
    },
    {
      "cell_type": "markdown",
      "metadata": {
        "id": "lUVuEhKjDfWA"
      },
      "source": [
        "Charmander at level  15<br>\n",
        "Pidgey at level  11<br>\n",
        "Sandshrew at level  18<br>\n",
        "Rattata at level  5<br>\n",
        "Abra at level  14<br>"
      ]
    },
    {
      "cell_type": "code",
      "metadata": {
        "id": "hdBnvJaBFiW6"
      },
      "source": [
        "reserves = [\n",
        "    ('Onix',10),\n",
        "    ('Slowpoke',18),\n",
        "    ('Dialga', 2),\n",
        "    ('Magikarp', 32),\n",
        "    ('Feebas', 22),\n",
        "    ('Swablu', 19),\n",
        "    ('Regigigas', 3),\n",
        "    ('Unown', 50)\n",
        "]"
      ],
      "execution_count": null,
      "outputs": []
    },
    {
      "cell_type": "code",
      "metadata": {
        "id": "h4-5bpeRFoJF"
      },
      "source": [
        "ranked = sorted(reserves, key=lambda x: x[1], reverse = True)[:3]\n",
        "picks = []\n",
        "for rank in ranked:\n",
        "  picks.append(rank[0])\n",
        "\n",
        "picks"
      ],
      "execution_count": null,
      "outputs": []
    },
    {
      "cell_type": "markdown",
      "metadata": {
        "id": "JUaGdyWiDR6x"
      },
      "source": [
        "['Unown', 'Magikarp', 'Feebas']"
      ]
    },
    {
      "cell_type": "code",
      "metadata": {
        "id": "Ki9rOevYGAu-"
      },
      "source": [
        "ranked = sorted(reserves, key=lambda x: x[1], reverse = False)[:3]\n",
        "picks = []\n",
        "for rank in ranked:\n",
        "  picks.append(rank[0])\n",
        "\n",
        "picks"
      ],
      "execution_count": null,
      "outputs": []
    },
    {
      "cell_type": "markdown",
      "metadata": {
        "id": "0bbz2CuTF2xJ"
      },
      "source": [
        "['Dialga', 'Regigigas', 'Onix']"
      ]
    },
    {
      "cell_type": "code",
      "metadata": {
        "id": "QwxqI0oPGXUj"
      },
      "source": [
        "party = ['Charmander', 'Pidgey', 'Sandshrew', 'Rattata', 'Abra']\n",
        "levels = [15, 11, 18, 5, 14 ]\n",
        "def create_party(party, candidates):\n",
        "  suggested_parties = []\n",
        "  new_p = party \n",
        "  for candidate in candidates:\n",
        "      new_p.insert(5,candidate)\n",
        "      suggested_parties.append (new_p[0:6])\n",
        "\n",
        "  return suggested_parties"
      ],
      "execution_count": null,
      "outputs": []
    },
    {
      "cell_type": "code",
      "metadata": {
        "id": "JN3JZoo6GXef"
      },
      "source": [
        "suggests = create_party(party=party, candidates=picks)\n",
        "for suggested_team in suggests:\n",
        "    print (suggested_team)"
      ],
      "execution_count": null,
      "outputs": []
    },
    {
      "cell_type": "markdown",
      "metadata": {
        "id": "iJCeImIEGy1G"
      },
      "source": [
        "['Charmander', 'Pidgey', 'Sandshrew', 'Rattata', 'Abra', 'Unown']<br>\n",
        "['Charmander', 'Pidgey', 'Sandshrew', 'Rattata', 'Abra', 'Magikarp']<br>\n",
        "['Charmander', 'Pidgey', 'Sandshrew', 'Rattata', 'Abra', 'Feebas']<br>"
      ]
    }
  ]
}